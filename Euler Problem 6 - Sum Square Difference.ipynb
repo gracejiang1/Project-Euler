{
 "cells": [
  {
   "cell_type": "code",
   "execution_count": 3,
   "metadata": {
    "collapsed": false
   },
   "outputs": [
    {
     "data": {
      "text/plain": [
       "' The sum of the squares of the first ten natural numbers is,\\n\\n12 + 22 + ... + 102 = 385\\nThe square of the sum of the first ten natural numbers is,\\n\\n(1 + 2 + ... + 10)2 = 552 = 3025\\nHence the difference between the sum of the squares of the first ten natural numbers and the square of the sum is 3025 \\xe2\\x88\\x92 385 = 2640.\\n\\nFind the difference between the sum of the squares of the first one hundred natural numbers and the square of the sum. '"
      ]
     },
     "execution_count": 3,
     "metadata": {},
     "output_type": "execute_result"
    }
   ],
   "source": [
    "\"\"\" The sum of the squares of the first ten natural numbers is,\n",
    "\n",
    "12 + 22 + ... + 102 = 385\n",
    "The square of the sum of the first ten natural numbers is,\n",
    "\n",
    "(1 + 2 + ... + 10)2 = 552 = 3025\n",
    "Hence the difference between the sum of the squares of the first ten natural numbers and the square of the sum is 3025 − 385 = 2640.\n",
    "\n",
    "Find the difference between the sum of the squares of the first one hundred natural numbers and the square of the sum. \"\"\""
   ]
  },
  {
   "cell_type": "code",
   "execution_count": 27,
   "metadata": {
    "collapsed": false
   },
   "outputs": [
    {
     "name": "stdout",
     "output_type": "stream",
     "text": [
      "5050 squared =  25502500\n",
      "338350\n",
      "abs(msum - isum) =  25164150\n"
     ]
    }
   ],
   "source": [
    "isum = 0\n",
    "for i in range(1,101):\n",
    "    isum = isum + i\n",
    "    isumsquared = isum**2\n",
    "print isum,\"squared = \",isumsquared\n",
    "msum = 0\n",
    "for n in range(1,101):\n",
    "    m = n**2\n",
    "    msum = msum + m\n",
    "print msum\n",
    "print \"abs(msum - isum) = \",abs(msum-isumsquared)"
   ]
  },
  {
   "cell_type": "code",
   "execution_count": 22,
   "metadata": {
    "collapsed": false
   },
   "outputs": [
    {
     "name": "stdout",
     "output_type": "stream",
     "text": [
      "1\n",
      "2\n",
      "3\n",
      "4\n",
      "5\n",
      "6\n",
      "7\n",
      "8\n",
      "9\n"
     ]
    }
   ],
   "source": [
    "for p in range(1,10):\n",
    "    print p"
   ]
  }
 ],
 "metadata": {
  "kernelspec": {
   "display_name": "Python [Root]",
   "language": "python",
   "name": "Python [Root]"
  },
  "language_info": {
   "codemirror_mode": {
    "name": "ipython",
    "version": 2
   },
   "file_extension": ".py",
   "mimetype": "text/x-python",
   "name": "python",
   "nbconvert_exporter": "python",
   "pygments_lexer": "ipython2",
   "version": "2.7.12"
  }
 },
 "nbformat": 4,
 "nbformat_minor": 0
}
