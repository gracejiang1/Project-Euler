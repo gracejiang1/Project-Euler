{
 "cells": [
  {
   "cell_type": "code",
   "execution_count": 2,
   "metadata": {
    "collapsed": true
   },
   "outputs": [],
   "source": [
    "\"\"\"\" The prime factors of 13195 are 5, 7, 13 and 29.\n",
    "\n",
    "What is the largest prime factor of the number 600851475143 ? \"\"\""
   ]
  },
  {
   "cell_type": "code",
   "execution_count": 55,
   "metadata": {
    "collapsed": false
   },
   "outputs": [
    {
     "name": "stdout",
     "output_type": "stream",
     "text": [
      "1\n",
      "2\n",
      "3\n",
      "4\n",
      "5\n",
      "6\n",
      "10\n",
      "12\n",
      "15\n",
      "20\n",
      "30\n"
     ]
    }
   ],
   "source": [
    "# prints all factors of given number\n",
    "for factor in range (1,60):\n",
    "    if 60 % factor == 0:\n",
    "        f = factor\n",
    "        print f "
   ]
  },
  {
   "cell_type": "code",
   "execution_count": 57,
   "metadata": {
    "collapsed": false
   },
   "outputs": [
    {
     "name": "stdout",
     "output_type": "stream",
     "text": [
      "2\n",
      "3\n",
      "4\n",
      "4\n",
      "5\n",
      "6\n",
      "6\n",
      "6\n",
      "10\n",
      "10\n",
      "10\n",
      "12\n",
      "12\n",
      "12\n",
      "12\n",
      "12\n",
      "15\n",
      "15\n",
      "15\n",
      "20\n",
      "20\n",
      "20\n",
      "20\n",
      "20\n",
      "30\n",
      "30\n",
      "30\n",
      "30\n",
      "30\n",
      "30\n",
      "30\n"
     ]
    }
   ],
   "source": [
    "for factor in range (1,60):\n",
    "    if 60 % factor == 0:\n",
    "        f = factor\n",
    "        for h in range (2,60):\n",
    "            l = f%h\n",
    "            if l == 0:\n",
    "                print f"
   ]
  },
  {
   "cell_type": "code",
   "execution_count": 2,
   "metadata": {
    "collapsed": false,
    "scrolled": true
   },
   "outputs": [
    {
     "name": "stdout",
     "output_type": "stream",
     "text": [
      "8462696833\n",
      "71\n",
      "largest prime factor 71\n",
      "600851475143/ 71 = 119192913\n",
      "10086647\n",
      "839\n",
      "largest prime factor 839\n",
      "600851475143/ 839 = 12022\n",
      "6857\n",
      "1471\n",
      "largest prime factor 1471\n",
      "600851475143/ 1471 = 4\n",
      "1\n",
      "6857\n",
      "largest prime factor 6857\n",
      "600851475143/ 6857 = 0\n"
     ]
    }
   ],
   "source": [
    "max_value = 0\n",
    "start=600851475143\n",
    "for n in range (2,100000000):\n",
    "    if start % n == 0: # and start % n != start:\n",
    "        start = start/n\n",
    "        print start\n",
    "        print n\n",
    "        if n > max_value:\n",
    "            max_value = n\n",
    "            print \"largest prime factor\",n\n",
    "            print \"600851475143/\",n,\"=\",start/n"
   ]
  },
  {
   "cell_type": "code",
   "execution_count": null,
   "metadata": {
    "collapsed": false
   },
   "outputs": [],
   "source": []
  }
 ],
 "metadata": {
  "kernelspec": {
   "display_name": "Python [Root]",
   "language": "python",
   "name": "Python [Root]"
  },
  "language_info": {
   "codemirror_mode": {
    "name": "ipython",
    "version": 2
   },
   "file_extension": ".py",
   "mimetype": "text/x-python",
   "name": "python",
   "nbconvert_exporter": "python",
   "pygments_lexer": "ipython2",
   "version": "2.7.12"
  }
 },
 "nbformat": 4,
 "nbformat_minor": 0
}
